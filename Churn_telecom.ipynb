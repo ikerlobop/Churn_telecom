{
  "nbformat": 4,
  "nbformat_minor": 0,
  "metadata": {
    "colab": {
      "provenance": []
    },
    "kernelspec": {
      "name": "python3",
      "display_name": "Python 3"
    },
    "language_info": {
      "name": "python"
    }
  },
  "cells": [
    {
      "cell_type": "markdown",
      "source": [
        "Tenemos que hacer una predicción de los clientes que se van de la operadora, para ello contamos con dos archivos CSV, Uno es el entrenamiento que contiene el 80% de un total de 3333 registros y otro es el archivo de test donde tenemos el 20% restante\n",
        "\n",
        "Los datos que hemos obtenido para el test se han tomado de muestras aleatorias, nunca en secuencia de el total.\n",
        "\n"
      ],
      "metadata": {
        "id": "7vtm_R3MU_J6"
      }
    },
    {
      "cell_type": "markdown",
      "source": [
        "Lo primero que tenemos que hacer es importar las librerías necesarias para afrontar el proyecto.\n",
        "Pandas es una librería de Python especializada en el manejo y análisis de estructuras de datos.\n",
        "\n",
        "A continuación, importamos Pandas y podemos subir los archivos a nuestro espacio de trabajo sin tener que subirlos manualmente.\n",
        "\n",
        "\n",
        "\n"
      ],
      "metadata": {
        "id": "xaINPTg-V-9O"
      }
    },
    {
      "cell_type": "code",
      "source": [
        "import pandas as pd\n",
        "import numpy as np\n",
        "import matplotlib.pyplot as plt\n",
        "from sklearn.linear_model import LogisticRegression\n",
        "from sklearn.metrics import classification_report, confusion_matrix\n",
        "from sklearn.model_selection import train_test_split\n",
        "from sklearn.metrics import accuracy_score\n",
        "import pickle\n",
        "from sklearn.neighbors import NearestNeighbors\n",
        "from sklearn.metrics import log_loss\n",
        "from sklearn.metrics import mean_squared_error\n",
        "from sklearn.metrics import f1_score\n",
        "from google.colab import files\n",
        "from sklearn.svm import SVC\n",
        "from sklearn.model_selection import GridSearchCV\n",
        "from sklearn.model_selection import train_test_split\n",
        "from sklearn.tree import DecisionTreeClassifier\n",
        "from sklearn.ensemble import RandomForestClassifier\n",
        "from sklearn.model_selection import cross_val_score\n",
        "from sklearn.metrics import accuracy_score, classification_report\n",
        "from sklearn.metrics import cohen_kappa_score, confusion_matrix\n",
        "from sklearn.model_selection import train_test_split\n",
        "\n",
        "import seaborn as sns\n",
        "\n",
        "uploaded = files.upload()\n"
      ],
      "metadata": {
        "colab": {
          "base_uri": "https://localhost:8080/",
          "height": 109
        },
        "id": "48z7xV0NV7rn",
        "outputId": "a6acba81-4eb9-4926-968f-8e347f6380d7"
      },
      "execution_count": null,
      "outputs": [
        {
          "output_type": "display_data",
          "data": {
            "text/plain": [
              "<IPython.core.display.HTML object>"
            ],
            "text/html": [
              "\n",
              "     <input type=\"file\" id=\"files-3a6bf823-2576-4d30-8955-7221e775330c\" name=\"files[]\" multiple disabled\n",
              "        style=\"border:none\" />\n",
              "     <output id=\"result-3a6bf823-2576-4d30-8955-7221e775330c\">\n",
              "      Upload widget is only available when the cell has been executed in the\n",
              "      current browser session. Please rerun this cell to enable.\n",
              "      </output>\n",
              "      <script>// Copyright 2017 Google LLC\n",
              "//\n",
              "// Licensed under the Apache License, Version 2.0 (the \"License\");\n",
              "// you may not use this file except in compliance with the License.\n",
              "// You may obtain a copy of the License at\n",
              "//\n",
              "//      http://www.apache.org/licenses/LICENSE-2.0\n",
              "//\n",
              "// Unless required by applicable law or agreed to in writing, software\n",
              "// distributed under the License is distributed on an \"AS IS\" BASIS,\n",
              "// WITHOUT WARRANTIES OR CONDITIONS OF ANY KIND, either express or implied.\n",
              "// See the License for the specific language governing permissions and\n",
              "// limitations under the License.\n",
              "\n",
              "/**\n",
              " * @fileoverview Helpers for google.colab Python module.\n",
              " */\n",
              "(function(scope) {\n",
              "function span(text, styleAttributes = {}) {\n",
              "  const element = document.createElement('span');\n",
              "  element.textContent = text;\n",
              "  for (const key of Object.keys(styleAttributes)) {\n",
              "    element.style[key] = styleAttributes[key];\n",
              "  }\n",
              "  return element;\n",
              "}\n",
              "\n",
              "// Max number of bytes which will be uploaded at a time.\n",
              "const MAX_PAYLOAD_SIZE = 100 * 1024;\n",
              "\n",
              "function _uploadFiles(inputId, outputId) {\n",
              "  const steps = uploadFilesStep(inputId, outputId);\n",
              "  const outputElement = document.getElementById(outputId);\n",
              "  // Cache steps on the outputElement to make it available for the next call\n",
              "  // to uploadFilesContinue from Python.\n",
              "  outputElement.steps = steps;\n",
              "\n",
              "  return _uploadFilesContinue(outputId);\n",
              "}\n",
              "\n",
              "// This is roughly an async generator (not supported in the browser yet),\n",
              "// where there are multiple asynchronous steps and the Python side is going\n",
              "// to poll for completion of each step.\n",
              "// This uses a Promise to block the python side on completion of each step,\n",
              "// then passes the result of the previous step as the input to the next step.\n",
              "function _uploadFilesContinue(outputId) {\n",
              "  const outputElement = document.getElementById(outputId);\n",
              "  const steps = outputElement.steps;\n",
              "\n",
              "  const next = steps.next(outputElement.lastPromiseValue);\n",
              "  return Promise.resolve(next.value.promise).then((value) => {\n",
              "    // Cache the last promise value to make it available to the next\n",
              "    // step of the generator.\n",
              "    outputElement.lastPromiseValue = value;\n",
              "    return next.value.response;\n",
              "  });\n",
              "}\n",
              "\n",
              "/**\n",
              " * Generator function which is called between each async step of the upload\n",
              " * process.\n",
              " * @param {string} inputId Element ID of the input file picker element.\n",
              " * @param {string} outputId Element ID of the output display.\n",
              " * @return {!Iterable<!Object>} Iterable of next steps.\n",
              " */\n",
              "function* uploadFilesStep(inputId, outputId) {\n",
              "  const inputElement = document.getElementById(inputId);\n",
              "  inputElement.disabled = false;\n",
              "\n",
              "  const outputElement = document.getElementById(outputId);\n",
              "  outputElement.innerHTML = '';\n",
              "\n",
              "  const pickedPromise = new Promise((resolve) => {\n",
              "    inputElement.addEventListener('change', (e) => {\n",
              "      resolve(e.target.files);\n",
              "    });\n",
              "  });\n",
              "\n",
              "  const cancel = document.createElement('button');\n",
              "  inputElement.parentElement.appendChild(cancel);\n",
              "  cancel.textContent = 'Cancel upload';\n",
              "  const cancelPromise = new Promise((resolve) => {\n",
              "    cancel.onclick = () => {\n",
              "      resolve(null);\n",
              "    };\n",
              "  });\n",
              "\n",
              "  // Wait for the user to pick the files.\n",
              "  const files = yield {\n",
              "    promise: Promise.race([pickedPromise, cancelPromise]),\n",
              "    response: {\n",
              "      action: 'starting',\n",
              "    }\n",
              "  };\n",
              "\n",
              "  cancel.remove();\n",
              "\n",
              "  // Disable the input element since further picks are not allowed.\n",
              "  inputElement.disabled = true;\n",
              "\n",
              "  if (!files) {\n",
              "    return {\n",
              "      response: {\n",
              "        action: 'complete',\n",
              "      }\n",
              "    };\n",
              "  }\n",
              "\n",
              "  for (const file of files) {\n",
              "    const li = document.createElement('li');\n",
              "    li.append(span(file.name, {fontWeight: 'bold'}));\n",
              "    li.append(span(\n",
              "        `(${file.type || 'n/a'}) - ${file.size} bytes, ` +\n",
              "        `last modified: ${\n",
              "            file.lastModifiedDate ? file.lastModifiedDate.toLocaleDateString() :\n",
              "                                    'n/a'} - `));\n",
              "    const percent = span('0% done');\n",
              "    li.appendChild(percent);\n",
              "\n",
              "    outputElement.appendChild(li);\n",
              "\n",
              "    const fileDataPromise = new Promise((resolve) => {\n",
              "      const reader = new FileReader();\n",
              "      reader.onload = (e) => {\n",
              "        resolve(e.target.result);\n",
              "      };\n",
              "      reader.readAsArrayBuffer(file);\n",
              "    });\n",
              "    // Wait for the data to be ready.\n",
              "    let fileData = yield {\n",
              "      promise: fileDataPromise,\n",
              "      response: {\n",
              "        action: 'continue',\n",
              "      }\n",
              "    };\n",
              "\n",
              "    // Use a chunked sending to avoid message size limits. See b/62115660.\n",
              "    let position = 0;\n",
              "    do {\n",
              "      const length = Math.min(fileData.byteLength - position, MAX_PAYLOAD_SIZE);\n",
              "      const chunk = new Uint8Array(fileData, position, length);\n",
              "      position += length;\n",
              "\n",
              "      const base64 = btoa(String.fromCharCode.apply(null, chunk));\n",
              "      yield {\n",
              "        response: {\n",
              "          action: 'append',\n",
              "          file: file.name,\n",
              "          data: base64,\n",
              "        },\n",
              "      };\n",
              "\n",
              "      let percentDone = fileData.byteLength === 0 ?\n",
              "          100 :\n",
              "          Math.round((position / fileData.byteLength) * 100);\n",
              "      percent.textContent = `${percentDone}% done`;\n",
              "\n",
              "    } while (position < fileData.byteLength);\n",
              "  }\n",
              "\n",
              "  // All done.\n",
              "  yield {\n",
              "    response: {\n",
              "      action: 'complete',\n",
              "    }\n",
              "  };\n",
              "}\n",
              "\n",
              "scope.google = scope.google || {};\n",
              "scope.google.colab = scope.google.colab || {};\n",
              "scope.google.colab._files = {\n",
              "  _uploadFiles,\n",
              "  _uploadFilesContinue,\n",
              "};\n",
              "})(self);\n",
              "</script> "
            ]
          },
          "metadata": {}
        },
        {
          "output_type": "stream",
          "name": "stdout",
          "text": [
            "Saving churn-bigml-20.csv to churn-bigml-20.csv\n",
            "Saving churn-bigml-80.csv to churn-bigml-80.csv\n"
          ]
        }
      ]
    },
    {
      "cell_type": "markdown",
      "source": [
        "Lo siguiente sería pasar los datos con los que vamos a trabajar a DataFrame.\n",
        "¿Qué es un DataFrame?\n",
        "Un DataFrame es una estructura de datos con dos dimensiones en la cual se puede guardar datos de distintos tipos (como caractéres, enteros, valores de punto flotante, factores y más) en columnas.\n"
      ],
      "metadata": {
        "id": "Kdiau2_aWyeR"
      }
    },
    {
      "cell_type": "code",
      "source": [
        "Train = pd.read_csv('churn-bigml-80.csv', header=0)\n",
        "Test = pd.read_csv('churn-bigml-20.csv', header=0)\n",
        "print(Train, Test)\n",
        "\n"
      ],
      "metadata": {
        "colab": {
          "base_uri": "https://localhost:8080/"
        },
        "id": "gZ3e9f7RXKqe",
        "outputId": "eb54f215-1977-4069-cc1b-d3316bdaae3c"
      },
      "execution_count": null,
      "outputs": [
        {
          "output_type": "stream",
          "name": "stdout",
          "text": [
            "     State  Account length  Area code International plan Voice mail plan  \\\n",
            "0       KS             128        415                 No             Yes   \n",
            "1       OH             107        415                 No             Yes   \n",
            "2       NJ             137        415                 No              No   \n",
            "3       OH              84        408                Yes              No   \n",
            "4       OK              75        415                Yes              No   \n",
            "...    ...             ...        ...                ...             ...   \n",
            "2661    SC              79        415                 No              No   \n",
            "2662    AZ             192        415                 No             Yes   \n",
            "2663    WV              68        415                 No              No   \n",
            "2664    RI              28        510                 No              No   \n",
            "2665    TN              74        415                 No             Yes   \n",
            "\n",
            "      Number vmail messages  Total day minutes  Total day calls  \\\n",
            "0                        25              265.1              110   \n",
            "1                        26              161.6              123   \n",
            "2                         0              243.4              114   \n",
            "3                         0              299.4               71   \n",
            "4                         0              166.7              113   \n",
            "...                     ...                ...              ...   \n",
            "2661                      0              134.7               98   \n",
            "2662                     36              156.2               77   \n",
            "2663                      0              231.1               57   \n",
            "2664                      0              180.8              109   \n",
            "2665                     25              234.4              113   \n",
            "\n",
            "      Total day charge  Total eve minutes  Total eve calls  Total eve charge  \\\n",
            "0                45.07              197.4               99             16.78   \n",
            "1                27.47              195.5              103             16.62   \n",
            "2                41.38              121.2              110             10.30   \n",
            "3                50.90               61.9               88              5.26   \n",
            "4                28.34              148.3              122             12.61   \n",
            "...                ...                ...              ...               ...   \n",
            "2661             22.90              189.7               68             16.12   \n",
            "2662             26.55              215.5              126             18.32   \n",
            "2663             39.29              153.4               55             13.04   \n",
            "2664             30.74              288.8               58             24.55   \n",
            "2665             39.85              265.9               82             22.60   \n",
            "\n",
            "      Total night minutes  Total night calls  Total night charge  \\\n",
            "0                   244.7                 91               11.01   \n",
            "1                   254.4                103               11.45   \n",
            "2                   162.6                104                7.32   \n",
            "3                   196.9                 89                8.86   \n",
            "4                   186.9                121                8.41   \n",
            "...                   ...                ...                 ...   \n",
            "2661                221.4                128                9.96   \n",
            "2662                279.1                 83               12.56   \n",
            "2663                191.3                123                8.61   \n",
            "2664                191.9                 91                8.64   \n",
            "2665                241.4                 77               10.86   \n",
            "\n",
            "      Total intl minutes  Total intl calls  Total intl charge  \\\n",
            "0                   10.0                 3               2.70   \n",
            "1                   13.7                 3               3.70   \n",
            "2                   12.2                 5               3.29   \n",
            "3                    6.6                 7               1.78   \n",
            "4                   10.1                 3               2.73   \n",
            "...                  ...               ...                ...   \n",
            "2661                11.8                 5               3.19   \n",
            "2662                 9.9                 6               2.67   \n",
            "2663                 9.6                 4               2.59   \n",
            "2664                14.1                 6               3.81   \n",
            "2665                13.7                 4               3.70   \n",
            "\n",
            "      Customer service calls  Churn  \n",
            "0                          1  False  \n",
            "1                          1  False  \n",
            "2                          0  False  \n",
            "3                          2  False  \n",
            "4                          3  False  \n",
            "...                      ...    ...  \n",
            "2661                       2  False  \n",
            "2662                       2  False  \n",
            "2663                       3  False  \n",
            "2664                       2  False  \n",
            "2665                       0  False  \n",
            "\n",
            "[2666 rows x 20 columns]     State  Account length  Area code International plan Voice mail plan  \\\n",
            "0      LA             117        408                 No              No   \n",
            "1      IN              65        415                 No              No   \n",
            "2      NY             161        415                 No              No   \n",
            "3      SC             111        415                 No              No   \n",
            "4      HI              49        510                 No              No   \n",
            "..    ...             ...        ...                ...             ...   \n",
            "662    WI             114        415                 No             Yes   \n",
            "663    AL             106        408                 No             Yes   \n",
            "664    VT              60        415                 No              No   \n",
            "665    WV             159        415                 No              No   \n",
            "666    CT             184        510                Yes              No   \n",
            "\n",
            "     Number vmail messages  Total day minutes  Total day calls  \\\n",
            "0                        0              184.5               97   \n",
            "1                        0              129.1              137   \n",
            "2                        0              332.9               67   \n",
            "3                        0              110.4              103   \n",
            "4                        0              119.3              117   \n",
            "..                     ...                ...              ...   \n",
            "662                     26              137.1               88   \n",
            "663                     29               83.6              131   \n",
            "664                      0              193.9              118   \n",
            "665                      0              169.8              114   \n",
            "666                      0              213.8              105   \n",
            "\n",
            "     Total day charge  Total eve minutes  Total eve calls  Total eve charge  \\\n",
            "0               31.37              351.6               80             29.89   \n",
            "1               21.95              228.5               83             19.42   \n",
            "2               56.59              317.8               97             27.01   \n",
            "3               18.77              137.3              102             11.67   \n",
            "4               20.28              215.1              109             18.28   \n",
            "..                ...                ...              ...               ...   \n",
            "662             23.31              155.7              125             13.23   \n",
            "663             14.21              203.9              131             17.33   \n",
            "664             32.96               85.0              110              7.23   \n",
            "665             28.87              197.7              105             16.80   \n",
            "666             36.35              159.6               84             13.57   \n",
            "\n",
            "     Total night minutes  Total night calls  Total night charge  \\\n",
            "0                  215.8                 90                9.71   \n",
            "1                  208.8                111                9.40   \n",
            "2                  160.6                128                7.23   \n",
            "3                  189.6                105                8.53   \n",
            "4                  178.7                 90                8.04   \n",
            "..                   ...                ...                 ...   \n",
            "662                247.6                 94               11.14   \n",
            "663                229.5                 73               10.33   \n",
            "664                210.1                134                9.45   \n",
            "665                193.7                 82                8.72   \n",
            "666                139.2                137                6.26   \n",
            "\n",
            "     Total intl minutes  Total intl calls  Total intl charge  \\\n",
            "0                   8.7                 4               2.35   \n",
            "1                  12.7                 6               3.43   \n",
            "2                   5.4                 9               1.46   \n",
            "3                   7.7                 6               2.08   \n",
            "4                  11.1                 1               3.00   \n",
            "..                  ...               ...                ...   \n",
            "662                11.5                 7               3.11   \n",
            "663                 8.1                 3               2.19   \n",
            "664                13.2                 8               3.56   \n",
            "665                11.6                 4               3.13   \n",
            "666                 5.0                10               1.35   \n",
            "\n",
            "     Customer service calls  Churn  \n",
            "0                         1  False  \n",
            "1                         4   True  \n",
            "2                         4   True  \n",
            "3                         2  False  \n",
            "4                         1  False  \n",
            "..                      ...    ...  \n",
            "662                       2  False  \n",
            "663                       1  False  \n",
            "664                       3  False  \n",
            "665                       1  False  \n",
            "666                       2  False  \n",
            "\n",
            "[667 rows x 20 columns]\n"
          ]
        }
      ]
    },
    {
      "cell_type": "markdown",
      "source": [
        "Exposición de datos"
      ],
      "metadata": {
        "id": "eoBtn-1PD2Dd"
      }
    },
    {
      "cell_type": "markdown",
      "source": [
        "También podemos unir los dos en una concatenación para tener el total de los datos, y hacer un analisis con ellos a continuación\n",
        "\n"
      ],
      "metadata": {
        "id": "QSK4EcjckDG6"
      }
    },
    {
      "cell_type": "code",
      "source": [
        "# set files path\n",
        "telefonia1 = 'churn-bigml-20.csv'\n",
        "telefonia2 = 'churn-bigml-80.csv'\n",
        "print(\"*************************************\")\n",
        "print(\"*** Concatenación de archivos CSV ***\")\n",
        "print(\"*************************************\\n\")\n",
        "\n",
        "# merge files\n",
        "teleoperadoradFTotal = pd.concat(\n",
        "   map(pd.read_csv, [telefonia1, telefonia2]), ignore_index=True)\n",
        "print(teleoperadoradFTotal)"
      ],
      "metadata": {
        "colab": {
          "base_uri": "https://localhost:8080/"
        },
        "id": "ACk-QQJMkCs3",
        "outputId": "d3739766-4135-4ad2-d4c8-37e53b1aa7d5"
      },
      "execution_count": null,
      "outputs": [
        {
          "output_type": "stream",
          "name": "stdout",
          "text": [
            "*************************************\n",
            "*** Concatenación de archivos CSV ***\n",
            "*************************************\n",
            "\n",
            "     State  Account length  Area code International plan Voice mail plan  \\\n",
            "0       LA             117        408                 No              No   \n",
            "1       IN              65        415                 No              No   \n",
            "2       NY             161        415                 No              No   \n",
            "3       SC             111        415                 No              No   \n",
            "4       HI              49        510                 No              No   \n",
            "...    ...             ...        ...                ...             ...   \n",
            "3328    SC              79        415                 No              No   \n",
            "3329    AZ             192        415                 No             Yes   \n",
            "3330    WV              68        415                 No              No   \n",
            "3331    RI              28        510                 No              No   \n",
            "3332    TN              74        415                 No             Yes   \n",
            "\n",
            "      Number vmail messages  Total day minutes  Total day calls  \\\n",
            "0                         0              184.5               97   \n",
            "1                         0              129.1              137   \n",
            "2                         0              332.9               67   \n",
            "3                         0              110.4              103   \n",
            "4                         0              119.3              117   \n",
            "...                     ...                ...              ...   \n",
            "3328                      0              134.7               98   \n",
            "3329                     36              156.2               77   \n",
            "3330                      0              231.1               57   \n",
            "3331                      0              180.8              109   \n",
            "3332                     25              234.4              113   \n",
            "\n",
            "      Total day charge  Total eve minutes  Total eve calls  Total eve charge  \\\n",
            "0                31.37              351.6               80             29.89   \n",
            "1                21.95              228.5               83             19.42   \n",
            "2                56.59              317.8               97             27.01   \n",
            "3                18.77              137.3              102             11.67   \n",
            "4                20.28              215.1              109             18.28   \n",
            "...                ...                ...              ...               ...   \n",
            "3328             22.90              189.7               68             16.12   \n",
            "3329             26.55              215.5              126             18.32   \n",
            "3330             39.29              153.4               55             13.04   \n",
            "3331             30.74              288.8               58             24.55   \n",
            "3332             39.85              265.9               82             22.60   \n",
            "\n",
            "      Total night minutes  Total night calls  Total night charge  \\\n",
            "0                   215.8                 90                9.71   \n",
            "1                   208.8                111                9.40   \n",
            "2                   160.6                128                7.23   \n",
            "3                   189.6                105                8.53   \n",
            "4                   178.7                 90                8.04   \n",
            "...                   ...                ...                 ...   \n",
            "3328                221.4                128                9.96   \n",
            "3329                279.1                 83               12.56   \n",
            "3330                191.3                123                8.61   \n",
            "3331                191.9                 91                8.64   \n",
            "3332                241.4                 77               10.86   \n",
            "\n",
            "      Total intl minutes  Total intl calls  Total intl charge  \\\n",
            "0                    8.7                 4               2.35   \n",
            "1                   12.7                 6               3.43   \n",
            "2                    5.4                 9               1.46   \n",
            "3                    7.7                 6               2.08   \n",
            "4                   11.1                 1               3.00   \n",
            "...                  ...               ...                ...   \n",
            "3328                11.8                 5               3.19   \n",
            "3329                 9.9                 6               2.67   \n",
            "3330                 9.6                 4               2.59   \n",
            "3331                14.1                 6               3.81   \n",
            "3332                13.7                 4               3.70   \n",
            "\n",
            "      Customer service calls  Churn  \n",
            "0                          1  False  \n",
            "1                          4   True  \n",
            "2                          4   True  \n",
            "3                          2  False  \n",
            "4                          1  False  \n",
            "...                      ...    ...  \n",
            "3328                       2  False  \n",
            "3329                       2  False  \n",
            "3330                       3  False  \n",
            "3331                       2  False  \n",
            "3332                       0  False  \n",
            "\n",
            "[3333 rows x 20 columns]\n"
          ]
        }
      ]
    },
    {
      "cell_type": "markdown",
      "source": [
        "Podemos ver la descripción de los datos de todas las columnas"
      ],
      "metadata": {
        "id": "0GLmnzywqqWS"
      }
    },
    {
      "cell_type": "code",
      "source": [
        "teleoperadoradFTotal.describe()\n"
      ],
      "metadata": {
        "colab": {
          "base_uri": "https://localhost:8080/",
          "height": 399
        },
        "id": "9OY-iU5omGAU",
        "outputId": "10e8c791-0770-48b9-c577-6564cb1a57fd"
      },
      "execution_count": null,
      "outputs": [
        {
          "output_type": "execute_result",
          "data": {
            "text/plain": [
              "       Account length    Area code  Number vmail messages  Total day minutes  \\\n",
              "count     3333.000000  3333.000000            3333.000000        3333.000000   \n",
              "mean       101.064806   437.182418               8.099010         179.775098   \n",
              "std         39.822106    42.371290              13.688365          54.467389   \n",
              "min          1.000000   408.000000               0.000000           0.000000   \n",
              "25%         74.000000   408.000000               0.000000         143.700000   \n",
              "50%        101.000000   415.000000               0.000000         179.400000   \n",
              "75%        127.000000   510.000000              20.000000         216.400000   \n",
              "max        243.000000   510.000000              51.000000         350.800000   \n",
              "\n",
              "       Total day calls  Total day charge  Total eve minutes  Total eve calls  \\\n",
              "count      3333.000000       3333.000000        3333.000000      3333.000000   \n",
              "mean        100.435644         30.562307         200.980348       100.114311   \n",
              "std          20.069084          9.259435          50.713844        19.922625   \n",
              "min           0.000000          0.000000           0.000000         0.000000   \n",
              "25%          87.000000         24.430000         166.600000        87.000000   \n",
              "50%         101.000000         30.500000         201.400000       100.000000   \n",
              "75%         114.000000         36.790000         235.300000       114.000000   \n",
              "max         165.000000         59.640000         363.700000       170.000000   \n",
              "\n",
              "       Total eve charge  Total night minutes  Total night calls  \\\n",
              "count       3333.000000          3333.000000        3333.000000   \n",
              "mean          17.083540           200.872037         100.107711   \n",
              "std            4.310668            50.573847          19.568609   \n",
              "min            0.000000            23.200000          33.000000   \n",
              "25%           14.160000           167.000000          87.000000   \n",
              "50%           17.120000           201.200000         100.000000   \n",
              "75%           20.000000           235.300000         113.000000   \n",
              "max           30.910000           395.000000         175.000000   \n",
              "\n",
              "       Total night charge  Total intl minutes  Total intl calls  \\\n",
              "count         3333.000000         3333.000000       3333.000000   \n",
              "mean             9.039325           10.237294          4.479448   \n",
              "std              2.275873            2.791840          2.461214   \n",
              "min              1.040000            0.000000          0.000000   \n",
              "25%              7.520000            8.500000          3.000000   \n",
              "50%              9.050000           10.300000          4.000000   \n",
              "75%             10.590000           12.100000          6.000000   \n",
              "max             17.770000           20.000000         20.000000   \n",
              "\n",
              "       Total intl charge  Customer service calls  \n",
              "count        3333.000000             3333.000000  \n",
              "mean            2.764581                1.562856  \n",
              "std             0.753773                1.315491  \n",
              "min             0.000000                0.000000  \n",
              "25%             2.300000                1.000000  \n",
              "50%             2.780000                1.000000  \n",
              "75%             3.270000                2.000000  \n",
              "max             5.400000                9.000000  "
            ],
            "text/html": [
              "\n",
              "  <div id=\"df-f6d06660-a7a3-4e79-bb3d-af30d1076740\">\n",
              "    <div class=\"colab-df-container\">\n",
              "      <div>\n",
              "<style scoped>\n",
              "    .dataframe tbody tr th:only-of-type {\n",
              "        vertical-align: middle;\n",
              "    }\n",
              "\n",
              "    .dataframe tbody tr th {\n",
              "        vertical-align: top;\n",
              "    }\n",
              "\n",
              "    .dataframe thead th {\n",
              "        text-align: right;\n",
              "    }\n",
              "</style>\n",
              "<table border=\"1\" class=\"dataframe\">\n",
              "  <thead>\n",
              "    <tr style=\"text-align: right;\">\n",
              "      <th></th>\n",
              "      <th>Account length</th>\n",
              "      <th>Area code</th>\n",
              "      <th>Number vmail messages</th>\n",
              "      <th>Total day minutes</th>\n",
              "      <th>Total day calls</th>\n",
              "      <th>Total day charge</th>\n",
              "      <th>Total eve minutes</th>\n",
              "      <th>Total eve calls</th>\n",
              "      <th>Total eve charge</th>\n",
              "      <th>Total night minutes</th>\n",
              "      <th>Total night calls</th>\n",
              "      <th>Total night charge</th>\n",
              "      <th>Total intl minutes</th>\n",
              "      <th>Total intl calls</th>\n",
              "      <th>Total intl charge</th>\n",
              "      <th>Customer service calls</th>\n",
              "    </tr>\n",
              "  </thead>\n",
              "  <tbody>\n",
              "    <tr>\n",
              "      <th>count</th>\n",
              "      <td>3333.000000</td>\n",
              "      <td>3333.000000</td>\n",
              "      <td>3333.000000</td>\n",
              "      <td>3333.000000</td>\n",
              "      <td>3333.000000</td>\n",
              "      <td>3333.000000</td>\n",
              "      <td>3333.000000</td>\n",
              "      <td>3333.000000</td>\n",
              "      <td>3333.000000</td>\n",
              "      <td>3333.000000</td>\n",
              "      <td>3333.000000</td>\n",
              "      <td>3333.000000</td>\n",
              "      <td>3333.000000</td>\n",
              "      <td>3333.000000</td>\n",
              "      <td>3333.000000</td>\n",
              "      <td>3333.000000</td>\n",
              "    </tr>\n",
              "    <tr>\n",
              "      <th>mean</th>\n",
              "      <td>101.064806</td>\n",
              "      <td>437.182418</td>\n",
              "      <td>8.099010</td>\n",
              "      <td>179.775098</td>\n",
              "      <td>100.435644</td>\n",
              "      <td>30.562307</td>\n",
              "      <td>200.980348</td>\n",
              "      <td>100.114311</td>\n",
              "      <td>17.083540</td>\n",
              "      <td>200.872037</td>\n",
              "      <td>100.107711</td>\n",
              "      <td>9.039325</td>\n",
              "      <td>10.237294</td>\n",
              "      <td>4.479448</td>\n",
              "      <td>2.764581</td>\n",
              "      <td>1.562856</td>\n",
              "    </tr>\n",
              "    <tr>\n",
              "      <th>std</th>\n",
              "      <td>39.822106</td>\n",
              "      <td>42.371290</td>\n",
              "      <td>13.688365</td>\n",
              "      <td>54.467389</td>\n",
              "      <td>20.069084</td>\n",
              "      <td>9.259435</td>\n",
              "      <td>50.713844</td>\n",
              "      <td>19.922625</td>\n",
              "      <td>4.310668</td>\n",
              "      <td>50.573847</td>\n",
              "      <td>19.568609</td>\n",
              "      <td>2.275873</td>\n",
              "      <td>2.791840</td>\n",
              "      <td>2.461214</td>\n",
              "      <td>0.753773</td>\n",
              "      <td>1.315491</td>\n",
              "    </tr>\n",
              "    <tr>\n",
              "      <th>min</th>\n",
              "      <td>1.000000</td>\n",
              "      <td>408.000000</td>\n",
              "      <td>0.000000</td>\n",
              "      <td>0.000000</td>\n",
              "      <td>0.000000</td>\n",
              "      <td>0.000000</td>\n",
              "      <td>0.000000</td>\n",
              "      <td>0.000000</td>\n",
              "      <td>0.000000</td>\n",
              "      <td>23.200000</td>\n",
              "      <td>33.000000</td>\n",
              "      <td>1.040000</td>\n",
              "      <td>0.000000</td>\n",
              "      <td>0.000000</td>\n",
              "      <td>0.000000</td>\n",
              "      <td>0.000000</td>\n",
              "    </tr>\n",
              "    <tr>\n",
              "      <th>25%</th>\n",
              "      <td>74.000000</td>\n",
              "      <td>408.000000</td>\n",
              "      <td>0.000000</td>\n",
              "      <td>143.700000</td>\n",
              "      <td>87.000000</td>\n",
              "      <td>24.430000</td>\n",
              "      <td>166.600000</td>\n",
              "      <td>87.000000</td>\n",
              "      <td>14.160000</td>\n",
              "      <td>167.000000</td>\n",
              "      <td>87.000000</td>\n",
              "      <td>7.520000</td>\n",
              "      <td>8.500000</td>\n",
              "      <td>3.000000</td>\n",
              "      <td>2.300000</td>\n",
              "      <td>1.000000</td>\n",
              "    </tr>\n",
              "    <tr>\n",
              "      <th>50%</th>\n",
              "      <td>101.000000</td>\n",
              "      <td>415.000000</td>\n",
              "      <td>0.000000</td>\n",
              "      <td>179.400000</td>\n",
              "      <td>101.000000</td>\n",
              "      <td>30.500000</td>\n",
              "      <td>201.400000</td>\n",
              "      <td>100.000000</td>\n",
              "      <td>17.120000</td>\n",
              "      <td>201.200000</td>\n",
              "      <td>100.000000</td>\n",
              "      <td>9.050000</td>\n",
              "      <td>10.300000</td>\n",
              "      <td>4.000000</td>\n",
              "      <td>2.780000</td>\n",
              "      <td>1.000000</td>\n",
              "    </tr>\n",
              "    <tr>\n",
              "      <th>75%</th>\n",
              "      <td>127.000000</td>\n",
              "      <td>510.000000</td>\n",
              "      <td>20.000000</td>\n",
              "      <td>216.400000</td>\n",
              "      <td>114.000000</td>\n",
              "      <td>36.790000</td>\n",
              "      <td>235.300000</td>\n",
              "      <td>114.000000</td>\n",
              "      <td>20.000000</td>\n",
              "      <td>235.300000</td>\n",
              "      <td>113.000000</td>\n",
              "      <td>10.590000</td>\n",
              "      <td>12.100000</td>\n",
              "      <td>6.000000</td>\n",
              "      <td>3.270000</td>\n",
              "      <td>2.000000</td>\n",
              "    </tr>\n",
              "    <tr>\n",
              "      <th>max</th>\n",
              "      <td>243.000000</td>\n",
              "      <td>510.000000</td>\n",
              "      <td>51.000000</td>\n",
              "      <td>350.800000</td>\n",
              "      <td>165.000000</td>\n",
              "      <td>59.640000</td>\n",
              "      <td>363.700000</td>\n",
              "      <td>170.000000</td>\n",
              "      <td>30.910000</td>\n",
              "      <td>395.000000</td>\n",
              "      <td>175.000000</td>\n",
              "      <td>17.770000</td>\n",
              "      <td>20.000000</td>\n",
              "      <td>20.000000</td>\n",
              "      <td>5.400000</td>\n",
              "      <td>9.000000</td>\n",
              "    </tr>\n",
              "  </tbody>\n",
              "</table>\n",
              "</div>\n",
              "      <button class=\"colab-df-convert\" onclick=\"convertToInteractive('df-f6d06660-a7a3-4e79-bb3d-af30d1076740')\"\n",
              "              title=\"Convert this dataframe to an interactive table.\"\n",
              "              style=\"display:none;\">\n",
              "        \n",
              "  <svg xmlns=\"http://www.w3.org/2000/svg\" height=\"24px\"viewBox=\"0 0 24 24\"\n",
              "       width=\"24px\">\n",
              "    <path d=\"M0 0h24v24H0V0z\" fill=\"none\"/>\n",
              "    <path d=\"M18.56 5.44l.94 2.06.94-2.06 2.06-.94-2.06-.94-.94-2.06-.94 2.06-2.06.94zm-11 1L8.5 8.5l.94-2.06 2.06-.94-2.06-.94L8.5 2.5l-.94 2.06-2.06.94zm10 10l.94 2.06.94-2.06 2.06-.94-2.06-.94-.94-2.06-.94 2.06-2.06.94z\"/><path d=\"M17.41 7.96l-1.37-1.37c-.4-.4-.92-.59-1.43-.59-.52 0-1.04.2-1.43.59L10.3 9.45l-7.72 7.72c-.78.78-.78 2.05 0 2.83L4 21.41c.39.39.9.59 1.41.59.51 0 1.02-.2 1.41-.59l7.78-7.78 2.81-2.81c.8-.78.8-2.07 0-2.86zM5.41 20L4 18.59l7.72-7.72 1.47 1.35L5.41 20z\"/>\n",
              "  </svg>\n",
              "      </button>\n",
              "      \n",
              "  <style>\n",
              "    .colab-df-container {\n",
              "      display:flex;\n",
              "      flex-wrap:wrap;\n",
              "      gap: 12px;\n",
              "    }\n",
              "\n",
              "    .colab-df-convert {\n",
              "      background-color: #E8F0FE;\n",
              "      border: none;\n",
              "      border-radius: 50%;\n",
              "      cursor: pointer;\n",
              "      display: none;\n",
              "      fill: #1967D2;\n",
              "      height: 32px;\n",
              "      padding: 0 0 0 0;\n",
              "      width: 32px;\n",
              "    }\n",
              "\n",
              "    .colab-df-convert:hover {\n",
              "      background-color: #E2EBFA;\n",
              "      box-shadow: 0px 1px 2px rgba(60, 64, 67, 0.3), 0px 1px 3px 1px rgba(60, 64, 67, 0.15);\n",
              "      fill: #174EA6;\n",
              "    }\n",
              "\n",
              "    [theme=dark] .colab-df-convert {\n",
              "      background-color: #3B4455;\n",
              "      fill: #D2E3FC;\n",
              "    }\n",
              "\n",
              "    [theme=dark] .colab-df-convert:hover {\n",
              "      background-color: #434B5C;\n",
              "      box-shadow: 0px 1px 3px 1px rgba(0, 0, 0, 0.15);\n",
              "      filter: drop-shadow(0px 1px 2px rgba(0, 0, 0, 0.3));\n",
              "      fill: #FFFFFF;\n",
              "    }\n",
              "  </style>\n",
              "\n",
              "      <script>\n",
              "        const buttonEl =\n",
              "          document.querySelector('#df-f6d06660-a7a3-4e79-bb3d-af30d1076740 button.colab-df-convert');\n",
              "        buttonEl.style.display =\n",
              "          google.colab.kernel.accessAllowed ? 'block' : 'none';\n",
              "\n",
              "        async function convertToInteractive(key) {\n",
              "          const element = document.querySelector('#df-f6d06660-a7a3-4e79-bb3d-af30d1076740');\n",
              "          const dataTable =\n",
              "            await google.colab.kernel.invokeFunction('convertToInteractive',\n",
              "                                                     [key], {});\n",
              "          if (!dataTable) return;\n",
              "\n",
              "          const docLinkHtml = 'Like what you see? Visit the ' +\n",
              "            '<a target=\"_blank\" href=https://colab.research.google.com/notebooks/data_table.ipynb>data table notebook</a>'\n",
              "            + ' to learn more about interactive tables.';\n",
              "          element.innerHTML = '';\n",
              "          dataTable['output_type'] = 'display_data';\n",
              "          await google.colab.output.renderOutput(dataTable, element);\n",
              "          const docLink = document.createElement('div');\n",
              "          docLink.innerHTML = docLinkHtml;\n",
              "          element.appendChild(docLink);\n",
              "        }\n",
              "      </script>\n",
              "    </div>\n",
              "  </div>\n",
              "  "
            ]
          },
          "metadata": {},
          "execution_count": 5
        }
      ]
    },
    {
      "cell_type": "markdown",
      "source": [
        "Tambien podemos ver la forma del dataFrame, numero de rows x columns\n",
        "\n"
      ],
      "metadata": {
        "id": "Rq6Rfl1RrT4Y"
      }
    },
    {
      "cell_type": "code",
      "source": [
        "teleoperadoradFTotal.shape"
      ],
      "metadata": {
        "colab": {
          "base_uri": "https://localhost:8080/"
        },
        "id": "GBEVsukkrkHm",
        "outputId": "f052d171-f4d7-4a46-86e4-29866a1967d9"
      },
      "execution_count": null,
      "outputs": [
        {
          "output_type": "execute_result",
          "data": {
            "text/plain": [
              "(3333, 20)"
            ]
          },
          "metadata": {},
          "execution_count": 6
        }
      ]
    },
    {
      "cell_type": "markdown",
      "source": [
        "Vamos a empezar a trabajar con los datos, asi que vamos a desgranar su forma, para ello tenemos que saber el nombre de las columnas.\n",
        "\n"
      ],
      "metadata": {
        "id": "z1cI94xTs35u"
      }
    },
    {
      "cell_type": "code",
      "source": [
        "teleoperadoradFTotal.columns"
      ],
      "metadata": {
        "colab": {
          "base_uri": "https://localhost:8080/"
        },
        "id": "jjNYVc8kvLW1",
        "outputId": "19d9c177-7618-49fb-ccc5-7020a292e1dd"
      },
      "execution_count": null,
      "outputs": [
        {
          "output_type": "execute_result",
          "data": {
            "text/plain": [
              "Index(['State', 'Account length', 'Area code', 'International plan',\n",
              "       'Voice mail plan', 'Number vmail messages', 'Total day minutes',\n",
              "       'Total day calls', 'Total day charge', 'Total eve minutes',\n",
              "       'Total eve calls', 'Total eve charge', 'Total night minutes',\n",
              "       'Total night calls', 'Total night charge', 'Total intl minutes',\n",
              "       'Total intl calls', 'Total intl charge', 'Customer service calls',\n",
              "       'Churn'],\n",
              "      dtype='object')"
            ]
          },
          "metadata": {},
          "execution_count": 7
        }
      ]
    },
    {
      "cell_type": "markdown",
      "source": [
        "Ahora que ya sabemos el nombre de la columna, insertaremos el tipo de dato que alberga.\n"
      ],
      "metadata": {
        "id": "-ir0W4jIvXl6"
      }
    },
    {
      "cell_type": "code",
      "source": [
        "teleoperadoradFTotal.dtypes"
      ],
      "metadata": {
        "colab": {
          "base_uri": "https://localhost:8080/"
        },
        "id": "qZg0GoLqvjMz",
        "outputId": "f1410707-ce7d-4820-eb54-d051d7152cc0"
      },
      "execution_count": null,
      "outputs": [
        {
          "output_type": "execute_result",
          "data": {
            "text/plain": [
              "State                      object\n",
              "Account length              int64\n",
              "Area code                   int64\n",
              "International plan         object\n",
              "Voice mail plan            object\n",
              "Number vmail messages       int64\n",
              "Total day minutes         float64\n",
              "Total day calls             int64\n",
              "Total day charge          float64\n",
              "Total eve minutes         float64\n",
              "Total eve calls             int64\n",
              "Total eve charge          float64\n",
              "Total night minutes       float64\n",
              "Total night calls           int64\n",
              "Total night charge        float64\n",
              "Total intl minutes        float64\n",
              "Total intl calls            int64\n",
              "Total intl charge         float64\n",
              "Customer service calls      int64\n",
              "Churn                        bool\n",
              "dtype: object"
            ]
          },
          "metadata": {},
          "execution_count": 8
        }
      ]
    },
    {
      "cell_type": "markdown",
      "source": [
        "Comprobamos no tener valores duplicados en la tabla, esto nos facilitará a posteriori en el entrenamiento"
      ],
      "metadata": {
        "id": "ko0_EXq7xabY"
      }
    },
    {
      "cell_type": "code",
      "source": [
        "len(teleoperadoradFTotal[teleoperadoradFTotal.duplicated()])"
      ],
      "metadata": {
        "colab": {
          "base_uri": "https://localhost:8080/"
        },
        "id": "szFt1WgVxCQX",
        "outputId": "31adcc52-2b2e-495c-b7b9-61e230e8b8a7"
      },
      "execution_count": null,
      "outputs": [
        {
          "output_type": "execute_result",
          "data": {
            "text/plain": [
              "0"
            ]
          },
          "metadata": {},
          "execution_count": 9
        }
      ]
    },
    {
      "cell_type": "markdown",
      "source": [
        "Como vamos a trabajar con Churn debemos saber los datos que contiene, sabemos que es un valor booleano, por lo tanto responderá con uno de los valores True o False"
      ],
      "metadata": {
        "id": "KnPNG2tq0aNX"
      }
    },
    {
      "cell_type": "code",
      "source": [
        "teleoperadoradFTotal[\"Churn\"].unique()"
      ],
      "metadata": {
        "colab": {
          "base_uri": "https://localhost:8080/"
        },
        "id": "50EPWIZ_0OR5",
        "outputId": "0f3c01dc-4cb3-492a-dd7e-8556f39f5996"
      },
      "execution_count": null,
      "outputs": [
        {
          "output_type": "execute_result",
          "data": {
            "text/plain": [
              "array([False,  True])"
            ]
          },
          "metadata": {},
          "execution_count": 11
        }
      ]
    },
    {
      "cell_type": "markdown",
      "source": [
        "Contamos los valores True o False de Churns.\n",
        "\n",
        "\n"
      ],
      "metadata": {
        "id": "Dg7kkQ-d3yIP"
      }
    },
    {
      "cell_type": "code",
      "source": [
        "print(teleoperadoradFTotal.Churn.value_counts())"
      ],
      "metadata": {
        "colab": {
          "base_uri": "https://localhost:8080/"
        },
        "id": "6_Npb18SusLf",
        "outputId": "e8fd4a8e-7ff3-48a7-ffb5-08ac415f5fdc"
      },
      "execution_count": null,
      "outputs": [
        {
          "output_type": "stream",
          "name": "stdout",
          "text": [
            "False    2850\n",
            "True      483\n",
            "Name: Churn, dtype: int64\n"
          ]
        }
      ]
    },
    {
      "cell_type": "markdown",
      "source": [
        "Retorna valores númericos en cada columna, para poder operar con ellos en MatPloblib\n",
        "\n",
        "\n",
        "\n"
      ],
      "metadata": {
        "id": "Gb_5rYQg4Bsg"
      }
    },
    {
      "cell_type": "code",
      "source": [
        "teleoperadoradFTotal.nunique()"
      ],
      "metadata": {
        "colab": {
          "base_uri": "https://localhost:8080/"
        },
        "id": "kaeXCowW3atT",
        "outputId": "74eaf235-7c72-434f-c348-6893fb74604c"
      },
      "execution_count": null,
      "outputs": [
        {
          "output_type": "execute_result",
          "data": {
            "text/plain": [
              "State                       51\n",
              "Account length             212\n",
              "Area code                    3\n",
              "International plan           2\n",
              "Voice mail plan              2\n",
              "Number vmail messages       46\n",
              "Total day minutes         1667\n",
              "Total day calls            119\n",
              "Total day charge          1667\n",
              "Total eve minutes         1611\n",
              "Total eve calls            123\n",
              "Total eve charge          1440\n",
              "Total night minutes       1591\n",
              "Total night calls          120\n",
              "Total night charge         933\n",
              "Total intl minutes         162\n",
              "Total intl calls            21\n",
              "Total intl charge          162\n",
              "Customer service calls      10\n",
              "Churn                        2\n",
              "dtype: int64"
            ]
          },
          "metadata": {},
          "execution_count": 13
        }
      ]
    },
    {
      "cell_type": "markdown",
      "source": [
        "Sacamos porcentaje visual y destacamos en rojo los que se van que son el 14.5% y en verde los que se quedan que son el 85.5%"
      ],
      "metadata": {
        "id": "IvNlSqgX7Cf8"
      }
    },
    {
      "cell_type": "code",
      "source": [
        "teleoperadoradFTotal ['Churn'].value_counts().plot.pie(explode=[0.05,0.05], autopct='%1.1f%%',  startangle=90,shadow=True, figsize=(8,8), colors = ['green', 'red'])\n",
        "plt.title('Churn')\n",
        "plt.show()"
      ],
      "metadata": {
        "colab": {
          "base_uri": "https://localhost:8080/",
          "height": 482
        },
        "id": "6EKdw0-Bw-1q",
        "outputId": "2f34fcb6-f8f8-4c28-ec32-6714998839f1"
      },
      "execution_count": null,
      "outputs": [
        {
          "output_type": "display_data",
          "data": {
            "text/plain": [
              "<Figure size 576x576 with 1 Axes>"
            ],
            "image/png": "[encoded data removed]"
          },
          "metadata": {}
        }
      ]
    },
    {
      "cell_type": "markdown",
      "source": [
        "A continuación, vamos a analizar mediante gráficas de columnas y hacer una comparativa entre ellas, también hemos seleccionado los datos más relevantes que nos ha dado BigML, que son llamadas de atención al cliente, plan internacional y plan de buzón de voz."
      ],
      "metadata": {
        "id": "D1rg0Paeb7vL"
      }
    },
    {
      "cell_type": "code",
      "source": [
        "\n",
        "sns.set(style=\"darkgrid\")\n",
        "plt.figure(figsize=(20,8))\n",
        "ax = sns.countplot(x='State', hue=\"Churn\", data=teleoperadoradFTotal)\n",
        "\n",
        "sns.set(style=\"darkgrid\")\n",
        "plt.figure(figsize=(20,8))\n",
        "ax = sns.countplot(x='Customer service calls', hue=\"Churn\", data=teleoperadoradFTotal)\n",
        "\n",
        "sns.set(style=\"darkgrid\")\n",
        "plt.figure(figsize=(2,8))\n",
        "ax = sns.countplot(x='International plan', hue=\"Churn\", data=teleoperadoradFTotal)\n",
        "\n",
        "sns.set(style=\"darkgrid\")\n",
        "plt.figure(figsize=(20,8))\n",
        "ax = sns.countplot(x='Voice mail plan', hue=\"Churn\", data=teleoperadoradFTotal)\n",
        "\n",
        "\n",
        "plt.show()"
      ],
      "metadata": {
        "colab": {
          "base_uri": "https://localhost:8080/",
          "height": 1000
        },
        "outputId": "16e497e9-bf5b-478b-810d-2a7ec82f002b",
        "id": "FHnG1J2ETn6w"
      },
      "execution_count": null,
      "outputs": [
        {
          "output_type": "display_data",
          "data": {
            "text/plain": [
              "<Figure size 1440x576 with 1 Axes>"
            ],
            "image/png": "[encoded data removed]"
          },
          "metadata": {}
        },
        {
          "output_type": "display_data",
          "data": {
            "text/plain": [
              "<Figure size 1440x576 with 1 Axes>"
            ],
            "image/png": "[encoded data removed]"
          },
          "metadata": {}
        },
        {
          "output_type": "display_data",
          "data": {
            "text/plain": [
              "<Figure size 144x576 with 1 Axes>"
            ],
            "image/png": "[encoded data removed]"
          },
          "metadata": {}
        },
        {
          "output_type": "display_data",
          "data": {
            "text/plain": [
              "<Figure size 1440x576 with 1 Axes>"
            ],
            "image/png": "[encoded data removed]"
          },
          "metadata": {}
        }
      ]
    },
    {
      "cell_type": "markdown",
      "source": [
        "Podemos cruzar una tabla y enseñar el total actual de los que se quedan y se van en el plan internacional."
      ],
      "metadata": {
        "id": "iVr3Xo9V34Rs"
      }
    },
    {
      "cell_type": "code",
      "source": [
        "\n",
        "pd.crosstab(teleoperadoradFTotal[\"Churn\"], teleoperadoradFTotal[\"International plan\"])\n",
        "\n",
        "\n"
      ],
      "metadata": {
        "colab": {
          "base_uri": "https://localhost:8080/",
          "height": 143
        },
        "id": "vTyvyCtGba-M",
        "outputId": "3da5ed11-23a5-46ff-fee7-520f0af6dbe2"
      },
      "execution_count": null,
      "outputs": [
        {
          "output_type": "execute_result",
          "data": {
            "text/plain": [
              "International plan    No  Yes\n",
              "Churn                        \n",
              "0                   2664  186\n",
              "1                    346  137"
            ],
            "text/html": [
              "\n",
              "  <div id=\"df-e95226fc-6bc3-4fba-9bbe-ddf11b439cf1\">\n",
              "    <div class=\"colab-df-container\">\n",
              "      <div>\n",
              "<style scoped>\n",
              "    .dataframe tbody tr th:only-of-type {\n",
              "        vertical-align: middle;\n",
              "    }\n",
              "\n",
              "    .dataframe tbody tr th {\n",
              "        vertical-align: top;\n",
              "    }\n",
              "\n",
              "    .dataframe thead th {\n",
              "        text-align: right;\n",
              "    }\n",
              "</style>\n",
              "<table border=\"1\" class=\"dataframe\">\n",
              "  <thead>\n",
              "    <tr style=\"text-align: right;\">\n",
              "      <th>International plan</th>\n",
              "      <th>No</th>\n",
              "      <th>Yes</th>\n",
              "    </tr>\n",
              "    <tr>\n",
              "      <th>Churn</th>\n",
              "      <th></th>\n",
              "      <th></th>\n",
              "    </tr>\n",
              "  </thead>\n",
              "  <tbody>\n",
              "    <tr>\n",
              "      <th>0</th>\n",
              "      <td>2664</td>\n",
              "      <td>186</td>\n",
              "    </tr>\n",
              "    <tr>\n",
              "      <th>1</th>\n",
              "      <td>346</td>\n",
              "      <td>137</td>\n",
              "    </tr>\n",
              "  </tbody>\n",
              "</table>\n",
              "</div>\n",
              "      <button class=\"colab-df-convert\" onclick=\"convertToInteractive('df-e95226fc-6bc3-4fba-9bbe-ddf11b439cf1')\"\n",
              "              title=\"Convert this dataframe to an interactive table.\"\n",
              "              style=\"display:none;\">\n",
              "        \n",
              "  <svg xmlns=\"http://www.w3.org/2000/svg\" height=\"24px\"viewBox=\"0 0 24 24\"\n",
              "       width=\"24px\">\n",
              "    <path d=\"M0 0h24v24H0V0z\" fill=\"none\"/>\n",
              "    <path d=\"M18.56 5.44l.94 2.06.94-2.06 2.06-.94-2.06-.94-.94-2.06-.94 2.06-2.06.94zm-11 1L8.5 8.5l.94-2.06 2.06-.94-2.06-.94L8.5 2.5l-.94 2.06-2.06.94zm10 10l.94 2.06.94-2.06 2.06-.94-2.06-.94-.94-2.06-.94 2.06-2.06.94z\"/><path d=\"M17.41 7.96l-1.37-1.37c-.4-.4-.92-.59-1.43-.59-.52 0-1.04.2-1.43.59L10.3 9.45l-7.72 7.72c-.78.78-.78 2.05 0 2.83L4 21.41c.39.39.9.59 1.41.59.51 0 1.02-.2 1.41-.59l7.78-7.78 2.81-2.81c.8-.78.8-2.07 0-2.86zM5.41 20L4 18.59l7.72-7.72 1.47 1.35L5.41 20z\"/>\n",
              "  </svg>\n",
              "      </button>\n",
              "      \n",
              "  <style>\n",
              "    .colab-df-container {\n",
              "      display:flex;\n",
              "      flex-wrap:wrap;\n",
              "      gap: 12px;\n",
              "    }\n",
              "\n",
              "    .colab-df-convert {\n",
              "      background-color: #E8F0FE;\n",
              "      border: none;\n",
              "      border-radius: 50%;\n",
              "      cursor: pointer;\n",
              "      display: none;\n",
              "      fill: #1967D2;\n",
              "      height: 32px;\n",
              "      padding: 0 0 0 0;\n",
              "      width: 32px;\n",
              "    }\n",
              "\n",
              "    .colab-df-convert:hover {\n",
              "      background-color: #E2EBFA;\n",
              "      box-shadow: 0px 1px 2px rgba(60, 64, 67, 0.3), 0px 1px 3px 1px rgba(60, 64, 67, 0.15);\n",
              "      fill: #174EA6;\n",
              "    }\n",
              "\n",
              "    [theme=dark] .colab-df-convert {\n",
              "      background-color: #3B4455;\n",
              "      fill: #D2E3FC;\n",
              "    }\n",
              "\n",
              "    [theme=dark] .colab-df-convert:hover {\n",
              "      background-color: #434B5C;\n",
              "      box-shadow: 0px 1px 3px 1px rgba(0, 0, 0, 0.15);\n",
              "      filter: drop-shadow(0px 1px 2px rgba(0, 0, 0, 0.3));\n",
              "      fill: #FFFFFF;\n",
              "    }\n",
              "  </style>\n",
              "\n",
              "      <script>\n",
              "        const buttonEl =\n",
              "          document.querySelector('#df-e95226fc-6bc3-4fba-9bbe-ddf11b439cf1 button.colab-df-convert');\n",
              "        buttonEl.style.display =\n",
              "          google.colab.kernel.accessAllowed ? 'block' : 'none';\n",
              "\n",
              "        async function convertToInteractive(key) {\n",
              "          const element = document.querySelector('#df-e95226fc-6bc3-4fba-9bbe-ddf11b439cf1');\n",
              "          const dataTable =\n",
              "            await google.colab.kernel.invokeFunction('convertToInteractive',\n",
              "                                                     [key], {});\n",
              "          if (!dataTable) return;\n",
              "\n",
              "          const docLinkHtml = 'Like what you see? Visit the ' +\n",
              "            '<a target=\"_blank\" href=https://colab.research.google.com/notebooks/data_table.ipynb>data table notebook</a>'\n",
              "            + ' to learn more about interactive tables.';\n",
              "          element.innerHTML = '';\n",
              "          dataTable['output_type'] = 'display_data';\n",
              "          await google.colab.output.renderOutput(dataTable, element);\n",
              "          const docLink = document.createElement('div');\n",
              "          docLink.innerHTML = docLinkHtml;\n",
              "          element.appendChild(docLink);\n",
              "        }\n",
              "      </script>\n",
              "    </div>\n",
              "  </div>\n",
              "  "
            ]
          },
          "metadata": {},
          "execution_count": 33
        }
      ]
    },
    {
      "cell_type": "markdown",
      "source": [
        "Se puede agrupar los datos y hacer una media con la tasa de abandono y el total de minutos diarios. "
      ],
      "metadata": {
        "id": "MPbJtJm-4IRc"
      }
    },
    {
      "cell_type": "code",
      "source": [
        "\n",
        "teleoperadoradFTotal.groupby(\"Churn\")[\"Total day minutes\"].mean()\n",
        "\n"
      ],
      "metadata": {
        "colab": {
          "base_uri": "https://localhost:8080/",
          "height": 185
        },
        "id": "3Q9Y8S_NdxBF",
        "outputId": "73986c85-422f-4ac5-a4a7-91af66d52629"
      },
      "execution_count": null,
      "outputs": [
        {
          "output_type": "error",
          "ename": "NameError",
          "evalue": "ignored",
          "traceback": [
            "\u001b[0;31m---------------------------------------------------------------------------\u001b[0m",
            "\u001b[0;31mNameError\u001b[0m                                 Traceback (most recent call last)",
            "\u001b[0;32m<ipython-input-1-4cc99865f2e6>\u001b[0m in \u001b[0;36m<module>\u001b[0;34m\u001b[0m\n\u001b[0;32m----> 1\u001b[0;31m \u001b[0mteleoperadoradFTotal\u001b[0m\u001b[0;34m.\u001b[0m\u001b[0mgroupby\u001b[0m\u001b[0;34m(\u001b[0m\u001b[0;34m\"Churn\"\u001b[0m\u001b[0;34m)\u001b[0m\u001b[0;34m[\u001b[0m\u001b[0;34m\"Total day minutes\"\u001b[0m\u001b[0;34m]\u001b[0m\u001b[0;34m.\u001b[0m\u001b[0mmean\u001b[0m\u001b[0;34m(\u001b[0m\u001b[0;34m)\u001b[0m\u001b[0;34m\u001b[0m\u001b[0;34m\u001b[0m\u001b[0m\n\u001b[0m\u001b[1;32m      2\u001b[0m \u001b[0;34m\u001b[0m\u001b[0m\n",
            "\u001b[0;31mNameError\u001b[0m: name 'teleoperadoradFTotal' is not defined"
          ]
        }
      ]
    },
    {
      "cell_type": "markdown",
      "source": [
        "También podemos sacar en porcentajes, probamos la tasa de abandono con plan internacional y plan de buzón de voz."
      ],
      "metadata": {
        "id": "ikH7vLM34m-B"
      }
    },
    {
      "cell_type": "code",
      "source": [
        "\n",
        "International_plan_data = pd.crosstab(teleoperadoradFTotal['International plan'],teleoperadoradFTotal['Churn'])\n",
        "International_plan_data['Porcentaje de dejar la compañia'] = International_plan_data.apply(lambda x : x[1]*100/(x[0]+x[1]), axis = 1)\n",
        "print(International_plan_data)"
      ],
      "metadata": {
        "colab": {
          "base_uri": "https://localhost:8080/"
        },
        "outputId": "0661ae16-3b31-4bfd-e388-cbc0a9adf5b0",
        "id": "mpyb3cHSYpmB"
      },
      "execution_count": null,
      "outputs": [
        {
          "output_type": "stream",
          "name": "stdout",
          "text": [
            "Churn               False  True  Porcentaje de dejar la compañia\n",
            "International plan                                              \n",
            "No                   2664   346                        11.495017\n",
            "Yes                   186   137                        42.414861\n"
          ]
        }
      ]
    },
    {
      "cell_type": "code",
      "source": [
        "International_plan_data = pd.crosstab(teleoperadoradFTotal['Voice mail plan'],teleoperadoradFTotal['Churn'])\n",
        "International_plan_data['Porcentaje de dejar la compañia'] = International_plan_data.apply(lambda x : x[1]*100/(x[0]+x[1]), axis = 1)\n",
        "print(International_plan_data)"
      ],
      "metadata": {
        "colab": {
          "base_uri": "https://localhost:8080/"
        },
        "id": "CILVJMlgYCJe",
        "outputId": "a76d80ee-8409-4f4e-f8ca-de6b3f28d74e"
      },
      "execution_count": null,
      "outputs": [
        {
          "output_type": "stream",
          "name": "stdout",
          "text": [
            "Churn            False  True  Porcentaje de dejar la compañia\n",
            "Voice mail plan                                              \n",
            "No                2008   403                        16.715056\n",
            "Yes                842    80                         8.676790\n"
          ]
        }
      ]
    },
    {
      "cell_type": "markdown",
      "source": [
        "Comparamos en cifras también para tener una mejor visión del conjunto por llamadas al servicio de atención al cliente.\n",
        "\n"
      ],
      "metadata": {
        "id": "xMPV1Y2Ne1nF"
      }
    },
    {
      "cell_type": "code",
      "source": [
        "#Calculamos las llamadas de atención al cliente con la tasa de abandono\n",
        "\n",
        "Customer_service_calls_data = pd.crosstab(teleoperadoradFTotal['Customer service calls'],teleoperadoradFTotal['Churn'])\n",
        "Customer_service_calls_data['Porcentaje de dejar la compañia'] = Customer_service_calls_data.apply(lambda x : x[1]*100/(x[0]+x[1]), axis = 1)\n",
        "print(Customer_service_calls_data)"
      ],
      "metadata": {
        "colab": {
          "base_uri": "https://localhost:8080/"
        },
        "outputId": "99c605eb-b678-48ce-cc4b-0d4928b99b06",
        "id": "kzY1qH6ocfgI"
      },
      "execution_count": null,
      "outputs": [
        {
          "output_type": "stream",
          "name": "stdout",
          "text": [
            "Churn                   False  True  Porcentaje de dejar la compañia\n",
            "Customer service calls                                              \n",
            "0                         605    92                        13.199426\n",
            "1                        1059   122                        10.330229\n",
            "2                         672    87                        11.462451\n",
            "3                         385    44                        10.256410\n",
            "4                          90    76                        45.783133\n",
            "5                          26    40                        60.606061\n",
            "6                           8    14                        63.636364\n",
            "7                           4     5                        55.555556\n",
            "8                           1     1                        50.000000\n",
            "9                           0     2                       100.000000\n"
          ]
        }
      ]
    },
    {
      "cell_type": "markdown",
      "source": [
        "Una matriz de correlación es una tabla que indica los coeficientes de conexión entre los factores. Cada celda de la tabla muestra la conexión entre los dos factores. Nos podemos fijar en la tabla en la columna Churn que será a más relevante para nosotros."
      ],
      "metadata": {
        "id": "hV7sRDenfEws"
      }
    },
    {
      "cell_type": "code",
      "source": [
        "\n",
        "teleoperadoradFTotal['Churn'] = teleoperadoradFTotal['Churn'].replace({bool(True):1,bool(False):0})\n",
        "plt.figure(figsize=(20,9))\n",
        "sns.heatmap(teleoperadoradFTotal.corr(), cmap=\"Paired\",annot=True)\n",
        "plt.title(\"Mapa de calor de correlación\", fontsize=34)"
      ],
      "metadata": {
        "colab": {
          "base_uri": "https://localhost:8080/",
          "height": 717
        },
        "id": "brQVKY_BBf9n",
        "outputId": "5ae47ed9-d56c-48c6-8702-9ef48afbc639"
      },
      "execution_count": null,
      "outputs": [
        {
          "output_type": "execute_result",
          "data": {
            "text/plain": [
              "Text(0.5, 1.0, 'Mapa de calor de correlación')"
            ]
          },
          "metadata": {},
          "execution_count": 22
        },
        {
          "output_type": "display_data",
          "data": {
            "text/plain": [
              "<Figure size 1440x648 with 2 Axes>"
            ],
            "image/png": "[encoded data removed]"
          },
          "metadata": {}
        }
      ]
    },
    {
      "cell_type": "markdown",
      "source": [
        "Vamos a ver la información que nos muestra cada dataFrame Train y Test por separado.\n"
      ],
      "metadata": {
        "id": "fPt7IG4kGetC"
      }
    },
    {
      "cell_type": "code",
      "source": [
        "Test.info()"
      ],
      "metadata": {
        "colab": {
          "base_uri": "https://localhost:8080/"
        },
        "id": "ONZdHokbIeAB",
        "outputId": "c8abe3a1-4b9a-4f7e-fe2c-2729d582f7a8"
      },
      "execution_count": null,
      "outputs": [
        {
          "output_type": "stream",
          "name": "stdout",
          "text": [
            "<class 'pandas.core.frame.DataFrame'>\n",
            "RangeIndex: 667 entries, 0 to 666\n",
            "Data columns (total 20 columns):\n",
            " #   Column                  Non-Null Count  Dtype  \n",
            "---  ------                  --------------  -----  \n",
            " 0   State                   667 non-null    object \n",
            " 1   Account length          667 non-null    int64  \n",
            " 2   Area code               667 non-null    int64  \n",
            " 3   International plan      667 non-null    object \n",
            " 4   Voice mail plan         667 non-null    object \n",
            " 5   Number vmail messages   667 non-null    int64  \n",
            " 6   Total day minutes       667 non-null    float64\n",
            " 7   Total day calls         667 non-null    int64  \n",
            " 8   Total day charge        667 non-null    float64\n",
            " 9   Total eve minutes       667 non-null    float64\n",
            " 10  Total eve calls         667 non-null    int64  \n",
            " 11  Total eve charge        667 non-null    float64\n",
            " 12  Total night minutes     667 non-null    float64\n",
            " 13  Total night calls       667 non-null    int64  \n",
            " 14  Total night charge      667 non-null    float64\n",
            " 15  Total intl minutes      667 non-null    float64\n",
            " 16  Total intl calls        667 non-null    int64  \n",
            " 17  Total intl charge       667 non-null    float64\n",
            " 18  Customer service calls  667 non-null    int64  \n",
            " 19  Churn                   667 non-null    bool   \n",
            "dtypes: bool(1), float64(8), int64(8), object(3)\n",
            "memory usage: 99.8+ KB\n"
          ]
        }
      ]
    },
    {
      "cell_type": "code",
      "source": [
        "Train.info()"
      ],
      "metadata": {
        "colab": {
          "base_uri": "https://localhost:8080/"
        },
        "id": "dvoUoSbLHn9l",
        "outputId": "f251a3ee-2b9b-4476-8432-a644bc44ad00"
      },
      "execution_count": null,
      "outputs": [
        {
          "output_type": "stream",
          "name": "stdout",
          "text": [
            "<class 'pandas.core.frame.DataFrame'>\n",
            "RangeIndex: 2666 entries, 0 to 2665\n",
            "Data columns (total 20 columns):\n",
            " #   Column                  Non-Null Count  Dtype  \n",
            "---  ------                  --------------  -----  \n",
            " 0   State                   2666 non-null   object \n",
            " 1   Account length          2666 non-null   int64  \n",
            " 2   Area code               2666 non-null   int64  \n",
            " 3   International plan      2666 non-null   object \n",
            " 4   Voice mail plan         2666 non-null   object \n",
            " 5   Number vmail messages   2666 non-null   int64  \n",
            " 6   Total day minutes       2666 non-null   float64\n",
            " 7   Total day calls         2666 non-null   int64  \n",
            " 8   Total day charge        2666 non-null   float64\n",
            " 9   Total eve minutes       2666 non-null   float64\n",
            " 10  Total eve calls         2666 non-null   int64  \n",
            " 11  Total eve charge        2666 non-null   float64\n",
            " 12  Total night minutes     2666 non-null   float64\n",
            " 13  Total night calls       2666 non-null   int64  \n",
            " 14  Total night charge      2666 non-null   float64\n",
            " 15  Total intl minutes      2666 non-null   float64\n",
            " 16  Total intl calls        2666 non-null   int64  \n",
            " 17  Total intl charge       2666 non-null   float64\n",
            " 18  Customer service calls  2666 non-null   int64  \n",
            " 19  Churn                   2666 non-null   bool   \n",
            "dtypes: bool(1), float64(8), int64(8), object(3)\n",
            "memory usage: 398.5+ KB\n"
          ]
        }
      ]
    },
    {
      "cell_type": "markdown",
      "source": [
        "Unique() \n",
        "Devuelve valores únicos basados ​​en una tabla hash.\n",
        "Los únicos se devuelven en orden de aparición. Esto NO se ordena.\n",
        "Significativamente más rápido que numpy.unique para secuencias lo suficientemente largas."
      ],
      "metadata": {
        "id": "jk9X1gMa93_T"
      }
    },
    {
      "cell_type": "code",
      "source": [
        "teleoperadoradFTotal['State'].unique()"
      ],
      "metadata": {
        "colab": {
          "base_uri": "https://localhost:8080/"
        },
        "id": "d-fIXJ2r9t1v",
        "outputId": "6e0e8723-9c01-4abc-8760-9a3c81cbbbff"
      },
      "execution_count": null,
      "outputs": [
        {
          "output_type": "execute_result",
          "data": {
            "text/plain": [
              "array(['LA', 'IN', 'NY', 'SC', 'HI', 'AK', 'MI', 'ID', 'VA', 'WI', 'MN',\n",
              "       'VT', 'MT', 'MA', 'KY', 'CO', 'AZ', 'CA', 'WA', 'NE', 'OH', 'MO',\n",
              "       'AL', 'NH', 'NM', 'OR', 'TX', 'MS', 'WY', 'FL', 'KS', 'NC', 'SD',\n",
              "       'OK', 'CT', 'RI', 'DE', 'UT', 'NV', 'DC', 'ME', 'IL', 'NJ', 'MD',\n",
              "       'WV', 'PA', 'ND', 'AR', 'TN', 'IA', 'GA'], dtype=object)"
            ]
          },
          "metadata": {},
          "execution_count": 265
        }
      ]
    },
    {
      "cell_type": "code",
      "source": [
        "teleoperadoradFTotal['State'].value_counts()"
      ],
      "metadata": {
        "colab": {
          "base_uri": "https://localhost:8080/"
        },
        "id": "-VXiIfEF98NM",
        "outputId": "3d01940b-17c5-4526-bd29-b43ef1f20c57"
      },
      "execution_count": null,
      "outputs": [
        {
          "output_type": "execute_result",
          "data": {
            "text/plain": [
              "WV    106\n",
              "MN     84\n",
              "NY     83\n",
              "AL     80\n",
              "OR     78\n",
              "OH     78\n",
              "WI     78\n",
              "VA     77\n",
              "WY     77\n",
              "CT     74\n",
              "MI     73\n",
              "ID     73\n",
              "VT     73\n",
              "TX     72\n",
              "UT     72\n",
              "IN     71\n",
              "KS     70\n",
              "MD     70\n",
              "MT     68\n",
              "NJ     68\n",
              "NC     68\n",
              "NV     66\n",
              "WA     66\n",
              "CO     66\n",
              "MA     65\n",
              "MS     65\n",
              "RI     65\n",
              "AZ     64\n",
              "FL     63\n",
              "MO     63\n",
              "NM     62\n",
              "ND     62\n",
              "ME     62\n",
              "OK     61\n",
              "NE     61\n",
              "DE     61\n",
              "SD     60\n",
              "SC     60\n",
              "KY     59\n",
              "IL     58\n",
              "NH     56\n",
              "AR     55\n",
              "GA     54\n",
              "DC     54\n",
              "HI     53\n",
              "TN     53\n",
              "AK     52\n",
              "LA     51\n",
              "PA     45\n",
              "IA     44\n",
              "CA     34\n",
              "Name: State, dtype: int64"
            ]
          },
          "metadata": {},
          "execution_count": 266
        }
      ]
    },
    {
      "cell_type": "code",
      "source": [
        "teleoperadoradFTotal.info()"
      ],
      "metadata": {
        "colab": {
          "base_uri": "https://localhost:8080/"
        },
        "id": "rfvMhsuA_Jn7",
        "outputId": "328d0316-982e-4483-e78e-e18e9d3691a5"
      },
      "execution_count": null,
      "outputs": [
        {
          "output_type": "stream",
          "name": "stdout",
          "text": [
            "<class 'pandas.core.frame.DataFrame'>\n",
            "RangeIndex: 3333 entries, 0 to 3332\n",
            "Data columns (total 20 columns):\n",
            " #   Column                  Non-Null Count  Dtype  \n",
            "---  ------                  --------------  -----  \n",
            " 0   State                   3333 non-null   object \n",
            " 1   Account length          3333 non-null   int64  \n",
            " 2   Area code               3333 non-null   int64  \n",
            " 3   International plan      3333 non-null   object \n",
            " 4   Voice mail plan         3333 non-null   object \n",
            " 5   Number vmail messages   3333 non-null   int64  \n",
            " 6   Total day minutes       3333 non-null   float64\n",
            " 7   Total day calls         3333 non-null   int64  \n",
            " 8   Total day charge        3333 non-null   float64\n",
            " 9   Total eve minutes       3333 non-null   float64\n",
            " 10  Total eve calls         3333 non-null   int64  \n",
            " 11  Total eve charge        3333 non-null   float64\n",
            " 12  Total night minutes     3333 non-null   float64\n",
            " 13  Total night calls       3333 non-null   int64  \n",
            " 14  Total night charge      3333 non-null   float64\n",
            " 15  Total intl minutes      3333 non-null   float64\n",
            " 16  Total intl calls        3333 non-null   int64  \n",
            " 17  Total intl charge       3333 non-null   float64\n",
            " 18  Customer service calls  3333 non-null   int64  \n",
            " 19  Churn                   3333 non-null   bool   \n",
            "dtypes: bool(1), float64(8), int64(8), object(3)\n",
            "memory usage: 498.1+ KB\n"
          ]
        }
      ]
    },
    {
      "cell_type": "markdown",
      "source": [
        "Limpieza y adecuación de datos."
      ],
      "metadata": {
        "id": "6HSCSz8C5k8t"
      }
    },
    {
      "cell_type": "code",
      "source": [
        "data_clean = teleoperadoradFTotal.drop(['State','Total day charge','Total intl charge','Total night charge','Total eve charge'], axis=1)"
      ],
      "metadata": {
        "id": "PeuybWTwAaXg"
      },
      "execution_count": null,
      "outputs": []
    },
    {
      "cell_type": "code",
      "source": [
        "teleoperadoradFTotal.columns"
      ],
      "metadata": {
        "colab": {
          "base_uri": "https://localhost:8080/"
        },
        "id": "G2Rpd9KpAkOm",
        "outputId": "d64a5172-1c06-45f4-eb84-7912ed4301e3"
      },
      "execution_count": null,
      "outputs": [
        {
          "output_type": "execute_result",
          "data": {
            "text/plain": [
              "Index(['State', 'Account length', 'Area code', 'International plan',\n",
              "       'Voice mail plan', 'Number vmail messages', 'Total day minutes',\n",
              "       'Total day calls', 'Total day charge', 'Total eve minutes',\n",
              "       'Total eve calls', 'Total eve charge', 'Total night minutes',\n",
              "       'Total night calls', 'Total night charge', 'Total intl minutes',\n",
              "       'Total intl calls', 'Total intl charge', 'Customer service calls',\n",
              "       'Churn'],\n",
              "      dtype='object')"
            ]
          },
          "metadata": {},
          "execution_count": 272
        }
      ]
    },
    {
      "cell_type": "code",
      "source": [
        "data_clean.columns"
      ],
      "metadata": {
        "colab": {
          "base_uri": "https://localhost:8080/"
        },
        "id": "ImDmmFjPAkWX",
        "outputId": "da11d6a7-e313-4f79-85dd-6f5a14764649"
      },
      "execution_count": null,
      "outputs": [
        {
          "output_type": "execute_result",
          "data": {
            "text/plain": [
              "Index(['Account length', 'Area code', 'International plan', 'Voice mail plan',\n",
              "       'Number vmail messages', 'Total day minutes', 'Total day calls',\n",
              "       'Total eve minutes', 'Total eve calls', 'Total night minutes',\n",
              "       'Total night calls', 'Total intl minutes', 'Total intl calls',\n",
              "       'Customer service calls', 'Churn'],\n",
              "      dtype='object')"
            ]
          },
          "metadata": {},
          "execution_count": 273
        }
      ]
    },
    {
      "cell_type": "code",
      "source": [
        "data_clean.info()\n"
      ],
      "metadata": {
        "colab": {
          "base_uri": "https://localhost:8080/"
        },
        "id": "tQKt8gRoAkzX",
        "outputId": "9fb9739f-0032-4dfd-f7a9-208795f8b95f"
      },
      "execution_count": null,
      "outputs": [
        {
          "output_type": "stream",
          "name": "stdout",
          "text": [
            "<class 'pandas.core.frame.DataFrame'>\n",
            "RangeIndex: 3333 entries, 0 to 3332\n",
            "Data columns (total 15 columns):\n",
            " #   Column                  Non-Null Count  Dtype  \n",
            "---  ------                  --------------  -----  \n",
            " 0   Account length          3333 non-null   int64  \n",
            " 1   Area code               3333 non-null   int64  \n",
            " 2   International plan      3333 non-null   object \n",
            " 3   Voice mail plan         3333 non-null   object \n",
            " 4   Number vmail messages   3333 non-null   int64  \n",
            " 5   Total day minutes       3333 non-null   float64\n",
            " 6   Total day calls         3333 non-null   int64  \n",
            " 7   Total eve minutes       3333 non-null   float64\n",
            " 8   Total eve calls         3333 non-null   int64  \n",
            " 9   Total night minutes     3333 non-null   float64\n",
            " 10  Total night calls       3333 non-null   int64  \n",
            " 11  Total intl minutes      3333 non-null   float64\n",
            " 12  Total intl calls        3333 non-null   int64  \n",
            " 13  Customer service calls  3333 non-null   int64  \n",
            " 14  Churn                   3333 non-null   bool   \n",
            "dtypes: bool(1), float64(4), int64(8), object(2)\n",
            "memory usage: 367.9+ KB\n"
          ]
        }
      ]
    },
    {
      "cell_type": "code",
      "source": [
        "#dummy categorical data\n",
        "data_clean['International plan']=data_clean['International plan'].replace(['No','Yes'],[0,1])\n",
        "data_clean['Voice mail plan']=data_clean['Voice mail plan'].replace(['No','Yes'],[0,1])\n",
        "data_clean['Churn']=data_clean['Churn'].replace([False,True],[0,1])"
      ],
      "metadata": {
        "id": "taA0mq-1B_Iq"
      },
      "execution_count": null,
      "outputs": []
    },
    {
      "cell_type": "code",
      "source": [
        "data_clean"
      ],
      "metadata": {
        "colab": {
          "base_uri": "https://localhost:8080/",
          "height": 502
        },
        "id": "IUwhGcmhB_Pa",
        "outputId": "aec651db-d952-422d-abfd-2f7a32829969"
      },
      "execution_count": null,
      "outputs": [
        {
          "output_type": "execute_result",
          "data": {
            "text/plain": [
              "      Account length  Area code  International plan  Voice mail plan  \\\n",
              "0                117        408                   0                0   \n",
              "1                 65        415                   0                0   \n",
              "2                161        415                   0                0   \n",
              "3                111        415                   0                0   \n",
              "4                 49        510                   0                0   \n",
              "...              ...        ...                 ...              ...   \n",
              "3328              79        415                   0                0   \n",
              "3329             192        415                   0                1   \n",
              "3330              68        415                   0                0   \n",
              "3331              28        510                   0                0   \n",
              "3332              74        415                   0                1   \n",
              "\n",
              "      Number vmail messages  Total day minutes  Total day calls  \\\n",
              "0                         0              184.5               97   \n",
              "1                         0              129.1              137   \n",
              "2                         0              332.9               67   \n",
              "3                         0              110.4              103   \n",
              "4                         0              119.3              117   \n",
              "...                     ...                ...              ...   \n",
              "3328                      0              134.7               98   \n",
              "3329                     36              156.2               77   \n",
              "3330                      0              231.1               57   \n",
              "3331                      0              180.8              109   \n",
              "3332                     25              234.4              113   \n",
              "\n",
              "      Total eve minutes  Total eve calls  Total night minutes  \\\n",
              "0                 351.6               80                215.8   \n",
              "1                 228.5               83                208.8   \n",
              "2                 317.8               97                160.6   \n",
              "3                 137.3              102                189.6   \n",
              "4                 215.1              109                178.7   \n",
              "...                 ...              ...                  ...   \n",
              "3328              189.7               68                221.4   \n",
              "3329              215.5              126                279.1   \n",
              "3330              153.4               55                191.3   \n",
              "3331              288.8               58                191.9   \n",
              "3332              265.9               82                241.4   \n",
              "\n",
              "      Total night calls  Total intl minutes  Total intl calls  \\\n",
              "0                    90                 8.7                 4   \n",
              "1                   111                12.7                 6   \n",
              "2                   128                 5.4                 9   \n",
              "3                   105                 7.7                 6   \n",
              "4                    90                11.1                 1   \n",
              "...                 ...                 ...               ...   \n",
              "3328                128                11.8                 5   \n",
              "3329                 83                 9.9                 6   \n",
              "3330                123                 9.6                 4   \n",
              "3331                 91                14.1                 6   \n",
              "3332                 77                13.7                 4   \n",
              "\n",
              "      Customer service calls  Churn  \n",
              "0                          1      0  \n",
              "1                          4      1  \n",
              "2                          4      1  \n",
              "3                          2      0  \n",
              "4                          1      0  \n",
              "...                      ...    ...  \n",
              "3328                       2      0  \n",
              "3329                       2      0  \n",
              "3330                       3      0  \n",
              "3331                       2      0  \n",
              "3332                       0      0  \n",
              "\n",
              "[3333 rows x 15 columns]"
            ],
            "text/html": [
              "\n",
              "  <div id=\"df-3682a5fb-2d76-4bcd-87b4-04439282d52c\">\n",
              "    <div class=\"colab-df-container\">\n",
              "      <div>\n",
              "<style scoped>\n",
              "    .dataframe tbody tr th:only-of-type {\n",
              "        vertical-align: middle;\n",
              "    }\n",
              "\n",
              "    .dataframe tbody tr th {\n",
              "        vertical-align: top;\n",
              "    }\n",
              "\n",
              "    .dataframe thead th {\n",
              "        text-align: right;\n",
              "    }\n",
              "</style>\n",
              "<table border=\"1\" class=\"dataframe\">\n",
              "  <thead>\n",
              "    <tr style=\"text-align: right;\">\n",
              "      <th></th>\n",
              "      <th>Account length</th>\n",
              "      <th>Area code</th>\n",
              "      <th>International plan</th>\n",
              "      <th>Voice mail plan</th>\n",
              "      <th>Number vmail messages</th>\n",
              "      <th>Total day minutes</th>\n",
              "      <th>Total day calls</th>\n",
              "      <th>Total eve minutes</th>\n",
              "      <th>Total eve calls</th>\n",
              "      <th>Total night minutes</th>\n",
              "      <th>Total night calls</th>\n",
              "      <th>Total intl minutes</th>\n",
              "      <th>Total intl calls</th>\n",
              "      <th>Customer service calls</th>\n",
              "      <th>Churn</th>\n",
              "    </tr>\n",
              "  </thead>\n",
              "  <tbody>\n",
              "    <tr>\n",
              "      <th>0</th>\n",
              "      <td>117</td>\n",
              "      <td>408</td>\n",
              "      <td>0</td>\n",
              "      <td>0</td>\n",
              "      <td>0</td>\n",
              "      <td>184.5</td>\n",
              "      <td>97</td>\n",
              "      <td>351.6</td>\n",
              "      <td>80</td>\n",
              "      <td>215.8</td>\n",
              "      <td>90</td>\n",
              "      <td>8.7</td>\n",
              "      <td>4</td>\n",
              "      <td>1</td>\n",
              "      <td>0</td>\n",
              "    </tr>\n",
              "    <tr>\n",
              "      <th>1</th>\n",
              "      <td>65</td>\n",
              "      <td>415</td>\n",
              "      <td>0</td>\n",
              "      <td>0</td>\n",
              "      <td>0</td>\n",
              "      <td>129.1</td>\n",
              "      <td>137</td>\n",
              "      <td>228.5</td>\n",
              "      <td>83</td>\n",
              "      <td>208.8</td>\n",
              "      <td>111</td>\n",
              "      <td>12.7</td>\n",
              "      <td>6</td>\n",
              "      <td>4</td>\n",
              "      <td>1</td>\n",
              "    </tr>\n",
              "    <tr>\n",
              "      <th>2</th>\n",
              "      <td>161</td>\n",
              "      <td>415</td>\n",
              "      <td>0</td>\n",
              "      <td>0</td>\n",
              "      <td>0</td>\n",
              "      <td>332.9</td>\n",
              "      <td>67</td>\n",
              "      <td>317.8</td>\n",
              "      <td>97</td>\n",
              "      <td>160.6</td>\n",
              "      <td>128</td>\n",
              "      <td>5.4</td>\n",
              "      <td>9</td>\n",
              "      <td>4</td>\n",
              "      <td>1</td>\n",
              "    </tr>\n",
              "    <tr>\n",
              "      <th>3</th>\n",
              "      <td>111</td>\n",
              "      <td>415</td>\n",
              "      <td>0</td>\n",
              "      <td>0</td>\n",
              "      <td>0</td>\n",
              "      <td>110.4</td>\n",
              "      <td>103</td>\n",
              "      <td>137.3</td>\n",
              "      <td>102</td>\n",
              "      <td>189.6</td>\n",
              "      <td>105</td>\n",
              "      <td>7.7</td>\n",
              "      <td>6</td>\n",
              "      <td>2</td>\n",
              "      <td>0</td>\n",
              "    </tr>\n",
              "    <tr>\n",
              "      <th>4</th>\n",
              "      <td>49</td>\n",
              "      <td>510</td>\n",
              "      <td>0</td>\n",
              "      <td>0</td>\n",
              "      <td>0</td>\n",
              "      <td>119.3</td>\n",
              "      <td>117</td>\n",
              "      <td>215.1</td>\n",
              "      <td>109</td>\n",
              "      <td>178.7</td>\n",
              "      <td>90</td>\n",
              "      <td>11.1</td>\n",
              "      <td>1</td>\n",
              "      <td>1</td>\n",
              "      <td>0</td>\n",
              "    </tr>\n",
              "    <tr>\n",
              "      <th>...</th>\n",
              "      <td>...</td>\n",
              "      <td>...</td>\n",
              "      <td>...</td>\n",
              "      <td>...</td>\n",
              "      <td>...</td>\n",
              "      <td>...</td>\n",
              "      <td>...</td>\n",
              "      <td>...</td>\n",
              "      <td>...</td>\n",
              "      <td>...</td>\n",
              "      <td>...</td>\n",
              "      <td>...</td>\n",
              "      <td>...</td>\n",
              "      <td>...</td>\n",
              "      <td>...</td>\n",
              "    </tr>\n",
              "    <tr>\n",
              "      <th>3328</th>\n",
              "      <td>79</td>\n",
              "      <td>415</td>\n",
              "      <td>0</td>\n",
              "      <td>0</td>\n",
              "      <td>0</td>\n",
              "      <td>134.7</td>\n",
              "      <td>98</td>\n",
              "      <td>189.7</td>\n",
              "      <td>68</td>\n",
              "      <td>221.4</td>\n",
              "      <td>128</td>\n",
              "      <td>11.8</td>\n",
              "      <td>5</td>\n",
              "      <td>2</td>\n",
              "      <td>0</td>\n",
              "    </tr>\n",
              "    <tr>\n",
              "      <th>3329</th>\n",
              "      <td>192</td>\n",
              "      <td>415</td>\n",
              "      <td>0</td>\n",
              "      <td>1</td>\n",
              "      <td>36</td>\n",
              "      <td>156.2</td>\n",
              "      <td>77</td>\n",
              "      <td>215.5</td>\n",
              "      <td>126</td>\n",
              "      <td>279.1</td>\n",
              "      <td>83</td>\n",
              "      <td>9.9</td>\n",
              "      <td>6</td>\n",
              "      <td>2</td>\n",
              "      <td>0</td>\n",
              "    </tr>\n",
              "    <tr>\n",
              "      <th>3330</th>\n",
              "      <td>68</td>\n",
              "      <td>415</td>\n",
              "      <td>0</td>\n",
              "      <td>0</td>\n",
              "      <td>0</td>\n",
              "      <td>231.1</td>\n",
              "      <td>57</td>\n",
              "      <td>153.4</td>\n",
              "      <td>55</td>\n",
              "      <td>191.3</td>\n",
              "      <td>123</td>\n",
              "      <td>9.6</td>\n",
              "      <td>4</td>\n",
              "      <td>3</td>\n",
              "      <td>0</td>\n",
              "    </tr>\n",
              "    <tr>\n",
              "      <th>3331</th>\n",
              "      <td>28</td>\n",
              "      <td>510</td>\n",
              "      <td>0</td>\n",
              "      <td>0</td>\n",
              "      <td>0</td>\n",
              "      <td>180.8</td>\n",
              "      <td>109</td>\n",
              "      <td>288.8</td>\n",
              "      <td>58</td>\n",
              "      <td>191.9</td>\n",
              "      <td>91</td>\n",
              "      <td>14.1</td>\n",
              "      <td>6</td>\n",
              "      <td>2</td>\n",
              "      <td>0</td>\n",
              "    </tr>\n",
              "    <tr>\n",
              "      <th>3332</th>\n",
              "      <td>74</td>\n",
              "      <td>415</td>\n",
              "      <td>0</td>\n",
              "      <td>1</td>\n",
              "      <td>25</td>\n",
              "      <td>234.4</td>\n",
              "      <td>113</td>\n",
              "      <td>265.9</td>\n",
              "      <td>82</td>\n",
              "      <td>241.4</td>\n",
              "      <td>77</td>\n",
              "      <td>13.7</td>\n",
              "      <td>4</td>\n",
              "      <td>0</td>\n",
              "      <td>0</td>\n",
              "    </tr>\n",
              "  </tbody>\n",
              "</table>\n",
              "<p>3333 rows × 15 columns</p>\n",
              "</div>\n",
              "      <button class=\"colab-df-convert\" onclick=\"convertToInteractive('df-3682a5fb-2d76-4bcd-87b4-04439282d52c')\"\n",
              "              title=\"Convert this dataframe to an interactive table.\"\n",
              "              style=\"display:none;\">\n",
              "        \n",
              "  <svg xmlns=\"http://www.w3.org/2000/svg\" height=\"24px\"viewBox=\"0 0 24 24\"\n",
              "       width=\"24px\">\n",
              "    <path d=\"M0 0h24v24H0V0z\" fill=\"none\"/>\n",
              "    <path d=\"M18.56 5.44l.94 2.06.94-2.06 2.06-.94-2.06-.94-.94-2.06-.94 2.06-2.06.94zm-11 1L8.5 8.5l.94-2.06 2.06-.94-2.06-.94L8.5 2.5l-.94 2.06-2.06.94zm10 10l.94 2.06.94-2.06 2.06-.94-2.06-.94-.94-2.06-.94 2.06-2.06.94z\"/><path d=\"M17.41 7.96l-1.37-1.37c-.4-.4-.92-.59-1.43-.59-.52 0-1.04.2-1.43.59L10.3 9.45l-7.72 7.72c-.78.78-.78 2.05 0 2.83L4 21.41c.39.39.9.59 1.41.59.51 0 1.02-.2 1.41-.59l7.78-7.78 2.81-2.81c.8-.78.8-2.07 0-2.86zM5.41 20L4 18.59l7.72-7.72 1.47 1.35L5.41 20z\"/>\n",
              "  </svg>\n",
              "      </button>\n",
              "      \n",
              "  <style>\n",
              "    .colab-df-container {\n",
              "      display:flex;\n",
              "      flex-wrap:wrap;\n",
              "      gap: 12px;\n",
              "    }\n",
              "\n",
              "    .colab-df-convert {\n",
              "      background-color: #E8F0FE;\n",
              "      border: none;\n",
              "      border-radius: 50%;\n",
              "      cursor: pointer;\n",
              "      display: none;\n",
              "      fill: #1967D2;\n",
              "      height: 32px;\n",
              "      padding: 0 0 0 0;\n",
              "      width: 32px;\n",
              "    }\n",
              "\n",
              "    .colab-df-convert:hover {\n",
              "      background-color: #E2EBFA;\n",
              "      box-shadow: 0px 1px 2px rgba(60, 64, 67, 0.3), 0px 1px 3px 1px rgba(60, 64, 67, 0.15);\n",
              "      fill: #174EA6;\n",
              "    }\n",
              "\n",
              "    [theme=dark] .colab-df-convert {\n",
              "      background-color: #3B4455;\n",
              "      fill: #D2E3FC;\n",
              "    }\n",
              "\n",
              "    [theme=dark] .colab-df-convert:hover {\n",
              "      background-color: #434B5C;\n",
              "      box-shadow: 0px 1px 3px 1px rgba(0, 0, 0, 0.15);\n",
              "      filter: drop-shadow(0px 1px 2px rgba(0, 0, 0, 0.3));\n",
              "      fill: #FFFFFF;\n",
              "    }\n",
              "  </style>\n",
              "\n",
              "      <script>\n",
              "        const buttonEl =\n",
              "          document.querySelector('#df-3682a5fb-2d76-4bcd-87b4-04439282d52c button.colab-df-convert');\n",
              "        buttonEl.style.display =\n",
              "          google.colab.kernel.accessAllowed ? 'block' : 'none';\n",
              "\n",
              "        async function convertToInteractive(key) {\n",
              "          const element = document.querySelector('#df-3682a5fb-2d76-4bcd-87b4-04439282d52c');\n",
              "          const dataTable =\n",
              "            await google.colab.kernel.invokeFunction('convertToInteractive',\n",
              "                                                     [key], {});\n",
              "          if (!dataTable) return;\n",
              "\n",
              "          const docLinkHtml = 'Like what you see? Visit the ' +\n",
              "            '<a target=\"_blank\" href=https://colab.research.google.com/notebooks/data_table.ipynb>data table notebook</a>'\n",
              "            + ' to learn more about interactive tables.';\n",
              "          element.innerHTML = '';\n",
              "          dataTable['output_type'] = 'display_data';\n",
              "          await google.colab.output.renderOutput(dataTable, element);\n",
              "          const docLink = document.createElement('div');\n",
              "          docLink.innerHTML = docLinkHtml;\n",
              "          element.appendChild(docLink);\n",
              "        }\n",
              "      </script>\n",
              "    </div>\n",
              "  </div>\n",
              "  "
            ]
          },
          "metadata": {},
          "execution_count": 276
        }
      ]
    },
    {
      "cell_type": "code",
      "source": [
        "#prepare data \n",
        "target = data_clean.iloc[: , -1].values\n",
        "feature = data_clean.iloc[: , : -1].values"
      ],
      "metadata": {
        "id": "lNYFAl2aB_Sl"
      },
      "execution_count": null,
      "outputs": []
    },
    {
      "cell_type": "code",
      "source": [
        "target.reshape(-1,1)"
      ],
      "metadata": {
        "colab": {
          "base_uri": "https://localhost:8080/"
        },
        "id": "ViKa0_RAB_ar",
        "outputId": "a3e539b3-999a-4e05-ce81-3f44ee0d0b3d"
      },
      "execution_count": null,
      "outputs": [
        {
          "output_type": "execute_result",
          "data": {
            "text/plain": [
              "array([[0],\n",
              "       [1],\n",
              "       [1],\n",
              "       ...,\n",
              "       [0],\n",
              "       [0],\n",
              "       [0]])"
            ]
          },
          "metadata": {},
          "execution_count": 278
        }
      ]
    },
    {
      "cell_type": "markdown",
      "source": [
        "Para el test hará una segmentación del 20% de los datos totales"
      ],
      "metadata": {
        "id": "xR0bIc-u5yTL"
      }
    },
    {
      "cell_type": "code",
      "source": [
        "X_train, X_test, y_train, y_test = train_test_split(feature, target, test_size=0.20,random_state=101)"
      ],
      "metadata": {
        "id": "m2iXodVrB_d7"
      },
      "execution_count": null,
      "outputs": []
    },
    {
      "cell_type": "markdown",
      "source": [
        "**Arbol** de decicisión\n"
      ],
      "metadata": {
        "id": "bTnhZMoADc38"
      }
    },
    {
      "cell_type": "code",
      "source": [
        "dtree = DecisionTreeClassifier()\n",
        "dtree.fit(X_train,y_train)\n",
        "predictions = dtree.predict(X_test)"
      ],
      "metadata": {
        "id": "LNKnD71xDfeM"
      },
      "execution_count": null,
      "outputs": []
    },
    {
      "cell_type": "code",
      "source": [
        "acc = accuracy_score(y_test, predictions)\n",
        "confMatrix = confusion_matrix(y_test, predictions) \n",
        "      \n",
        "        \n",
        "print(); print('Evaluation of the trained model: ')\n",
        "print(); print('Accuracy : ', acc)\n",
        "print(); print('Confusion Matrix :\\n', confMatrix)\n"
      ],
      "metadata": {
        "colab": {
          "base_uri": "https://localhost:8080/"
        },
        "id": "VNTAzkcXDv8D",
        "outputId": "3a6fb18e-76cf-46db-991f-594f728c7c29"
      },
      "execution_count": null,
      "outputs": [
        {
          "output_type": "stream",
          "name": "stdout",
          "text": [
            "\n",
            "Evaluation of the trained model: \n",
            "\n",
            "Accuracy :  0.9055472263868066\n",
            "\n",
            "Confusion Matrix :\n",
            " [[536  36]\n",
            " [ 27  68]]\n"
          ]
        }
      ]
    },
    {
      "cell_type": "markdown",
      "source": [
        "Bosque aleatorio"
      ],
      "metadata": {
        "id": "UKZC-DrhtFoB"
      }
    },
    {
      "cell_type": "code",
      "source": [
        "model = RandomForestClassifier(n_estimators=200, criterion='gini', \n",
        "                                max_depth=8, min_samples_split=2, \n",
        "                                min_samples_leaf=1, min_weight_fraction_leaf=0.0, \n",
        "                                max_features=None, max_leaf_nodes=None, \n",
        "                                min_impurity_decrease=0.0, \n",
        "                                bootstrap=True, oob_score=False, \n",
        "                                warm_start=False, class_weight=None)"
      ],
      "metadata": {
        "id": "7pNzEH-uFiIy"
      },
      "execution_count": null,
      "outputs": []
    },
    {
      "cell_type": "code",
      "source": [
        "rfc = RandomForestClassifier(n_estimators=600)\n",
        "rfc.fit(X_train,y_train)\n",
        "predictions = rfc.predict(X_test)"
      ],
      "metadata": {
        "id": "_0iC_lMHFxc5"
      },
      "execution_count": null,
      "outputs": []
    },
    {
      "cell_type": "code",
      "source": [
        "acc                 = accuracy_score(y_test, predictions)\n",
        "confMatrix          = confusion_matrix(y_test, predictions) \n",
        "\n",
        "print(); print('Evaluation of the trained model: ')\n",
        "print(); print('Accuracy : ', acc)\n",
        "print(); print('Confusion Matrix :\\n', confMatrix)\n"
      ],
      "metadata": {
        "colab": {
          "base_uri": "https://localhost:8080/"
        },
        "id": "24502TXrFxfv",
        "outputId": "b740fb45-7321-41c6-fcc5-49951036a2d7"
      },
      "execution_count": null,
      "outputs": [
        {
          "output_type": "stream",
          "name": "stdout",
          "text": [
            "\n",
            "Evaluation of the trained model: \n",
            "\n",
            "Accuracy :  0.9445277361319341\n",
            "\n",
            "Confusion Matrix :\n",
            " [[567   5]\n",
            " [ 32  63]]\n"
          ]
        }
      ]
    }
  ]
}